{
 "cells": [
  {
   "cell_type": "code",
   "execution_count": 1,
   "id": "a26fe80e-5fc7-4a0a-a639-8aee9eb9243b",
   "metadata": {},
   "outputs": [
    {
     "name": "stdout",
     "output_type": "stream",
     "text": [
      "Requirement already satisfied: transformers in c:\\users\\hp\\anaconda3\\lib\\site-packages (4.51.1)\n",
      "Requirement already satisfied: torchvision in c:\\users\\hp\\anaconda3\\lib\\site-packages (0.21.0)\n",
      "Collecting torchaudio\n",
      "  Downloading torchaudio-2.6.0-cp312-cp312-win_amd64.whl.metadata (6.7 kB)\n",
      "Requirement already satisfied: easyocr in c:\\users\\hp\\anaconda3\\lib\\site-packages (1.7.2)\n",
      "Requirement already satisfied: opencv-python in c:\\users\\hp\\anaconda3\\lib\\site-packages (4.11.0.86)\n",
      "Requirement already satisfied: pillow in c:\\users\\hp\\anaconda3\\lib\\site-packages (10.4.0)\n",
      "Requirement already satisfied: scikit-learn in c:\\users\\hp\\anaconda3\\lib\\site-packages (1.6.1)\n",
      "Requirement already satisfied: filelock in c:\\users\\hp\\anaconda3\\lib\\site-packages (from transformers) (3.13.1)\n",
      "Requirement already satisfied: huggingface-hub<1.0,>=0.30.0 in c:\\users\\hp\\anaconda3\\lib\\site-packages (from transformers) (0.30.2)\n",
      "Requirement already satisfied: numpy>=1.17 in c:\\users\\hp\\anaconda3\\lib\\site-packages (from transformers) (1.26.4)\n",
      "Requirement already satisfied: packaging>=20.0 in c:\\users\\hp\\anaconda3\\lib\\site-packages (from transformers) (24.1)\n",
      "Requirement already satisfied: pyyaml>=5.1 in c:\\users\\hp\\anaconda3\\lib\\site-packages (from transformers) (6.0.1)\n",
      "Requirement already satisfied: regex!=2019.12.17 in c:\\users\\hp\\anaconda3\\lib\\site-packages (from transformers) (2024.9.11)\n",
      "Requirement already satisfied: requests in c:\\users\\hp\\anaconda3\\lib\\site-packages (from transformers) (2.32.3)\n",
      "Requirement already satisfied: tokenizers<0.22,>=0.21 in c:\\users\\hp\\anaconda3\\lib\\site-packages (from transformers) (0.21.1)\n",
      "Requirement already satisfied: safetensors>=0.4.3 in c:\\users\\hp\\anaconda3\\lib\\site-packages (from transformers) (0.5.3)\n",
      "Requirement already satisfied: tqdm>=4.27 in c:\\users\\hp\\anaconda3\\lib\\site-packages (from transformers) (4.66.5)\n",
      "Requirement already satisfied: torch==2.6.0 in c:\\users\\hp\\anaconda3\\lib\\site-packages (from torchvision) (2.6.0)\n",
      "Requirement already satisfied: typing-extensions>=4.10.0 in c:\\users\\hp\\anaconda3\\lib\\site-packages (from torch==2.6.0->torchvision) (4.11.0)\n",
      "Requirement already satisfied: networkx in c:\\users\\hp\\anaconda3\\lib\\site-packages (from torch==2.6.0->torchvision) (3.3)\n",
      "Requirement already satisfied: jinja2 in c:\\users\\hp\\anaconda3\\lib\\site-packages (from torch==2.6.0->torchvision) (3.1.4)\n",
      "Requirement already satisfied: fsspec in c:\\users\\hp\\anaconda3\\lib\\site-packages (from torch==2.6.0->torchvision) (2024.6.1)\n",
      "Requirement already satisfied: setuptools in c:\\users\\hp\\anaconda3\\lib\\site-packages (from torch==2.6.0->torchvision) (75.1.0)\n",
      "Requirement already satisfied: sympy==1.13.1 in c:\\users\\hp\\anaconda3\\lib\\site-packages (from torch==2.6.0->torchvision) (1.13.1)\n",
      "Requirement already satisfied: mpmath<1.4,>=1.1.0 in c:\\users\\hp\\anaconda3\\lib\\site-packages (from sympy==1.13.1->torch==2.6.0->torchvision) (1.3.0)\n",
      "Requirement already satisfied: opencv-python-headless in c:\\users\\hp\\anaconda3\\lib\\site-packages (from easyocr) (4.11.0.86)\n",
      "Requirement already satisfied: scipy in c:\\users\\hp\\anaconda3\\lib\\site-packages (from easyocr) (1.13.1)\n",
      "Requirement already satisfied: scikit-image in c:\\users\\hp\\anaconda3\\lib\\site-packages (from easyocr) (0.24.0)\n",
      "Requirement already satisfied: python-bidi in c:\\users\\hp\\anaconda3\\lib\\site-packages (from easyocr) (0.6.6)\n",
      "Requirement already satisfied: Shapely in c:\\users\\hp\\anaconda3\\lib\\site-packages (from easyocr) (2.1.0)\n",
      "Requirement already satisfied: pyclipper in c:\\users\\hp\\anaconda3\\lib\\site-packages (from easyocr) (1.3.0.post6)\n",
      "Requirement already satisfied: ninja in c:\\users\\hp\\anaconda3\\lib\\site-packages (from easyocr) (1.11.1.4)\n",
      "Requirement already satisfied: joblib>=1.2.0 in c:\\users\\hp\\anaconda3\\lib\\site-packages (from scikit-learn) (1.4.2)\n",
      "Requirement already satisfied: threadpoolctl>=3.1.0 in c:\\users\\hp\\anaconda3\\lib\\site-packages (from scikit-learn) (3.5.0)\n",
      "Requirement already satisfied: colorama in c:\\users\\hp\\anaconda3\\lib\\site-packages (from tqdm>=4.27->transformers) (0.4.6)\n",
      "Requirement already satisfied: charset-normalizer<4,>=2 in c:\\users\\hp\\anaconda3\\lib\\site-packages (from requests->transformers) (3.3.2)\n",
      "Requirement already satisfied: idna<4,>=2.5 in c:\\users\\hp\\anaconda3\\lib\\site-packages (from requests->transformers) (3.7)\n",
      "Requirement already satisfied: urllib3<3,>=1.21.1 in c:\\users\\hp\\anaconda3\\lib\\site-packages (from requests->transformers) (2.2.3)\n",
      "Requirement already satisfied: certifi>=2017.4.17 in c:\\users\\hp\\anaconda3\\lib\\site-packages (from requests->transformers) (2025.1.31)\n",
      "Requirement already satisfied: imageio>=2.33 in c:\\users\\hp\\anaconda3\\lib\\site-packages (from scikit-image->easyocr) (2.33.1)\n",
      "Requirement already satisfied: tifffile>=2022.8.12 in c:\\users\\hp\\anaconda3\\lib\\site-packages (from scikit-image->easyocr) (2023.4.12)\n",
      "Requirement already satisfied: lazy-loader>=0.4 in c:\\users\\hp\\anaconda3\\lib\\site-packages (from scikit-image->easyocr) (0.4)\n",
      "Requirement already satisfied: MarkupSafe>=2.0 in c:\\users\\hp\\anaconda3\\lib\\site-packages (from jinja2->torch==2.6.0->torchvision) (2.1.3)\n",
      "Downloading torchaudio-2.6.0-cp312-cp312-win_amd64.whl (2.4 MB)\n",
      "   ---------------------------------------- 0.0/2.4 MB ? eta -:--:--\n",
      "   ---------------------------------------- 0.0/2.4 MB ? eta -:--:--\n",
      "   ---------------------------------------- 0.0/2.4 MB ? eta -:--:--\n",
      "   ---------------------------------------- 0.0/2.4 MB ? eta -:--:--\n",
      "   ---------------------------------------- 0.0/2.4 MB ? eta -:--:--\n",
      "   ---------------------------------------- 0.0/2.4 MB ? eta -:--:--\n",
      "   ---------------------------------------- 0.0/2.4 MB ? eta -:--:--\n",
      "   ---------------------------------------- 0.0/2.4 MB ? eta -:--:--\n",
      "   ---------------------------------------- 0.0/2.4 MB ? eta -:--:--\n",
      "   ---- ----------------------------------- 0.3/2.4 MB ? eta -:--:--\n",
      "   ---- ----------------------------------- 0.3/2.4 MB ? eta -:--:--\n",
      "   ---- ----------------------------------- 0.3/2.4 MB ? eta -:--:--\n",
      "   ---- ----------------------------------- 0.3/2.4 MB ? eta -:--:--\n",
      "   ---- ----------------------------------- 0.3/2.4 MB ? eta -:--:--\n",
      "   ---- ----------------------------------- 0.3/2.4 MB ? eta -:--:--\n",
      "   ---- ----------------------------------- 0.3/2.4 MB ? eta -:--:--\n",
      "   ---- ----------------------------------- 0.3/2.4 MB ? eta -:--:--\n",
      "   ---- ----------------------------------- 0.3/2.4 MB ? eta -:--:--\n",
      "   -------- ------------------------------- 0.5/2.4 MB 142.2 kB/s eta 0:00:14\n",
      "   -------- ------------------------------- 0.5/2.4 MB 142.2 kB/s eta 0:00:14\n",
      "   -------- ------------------------------- 0.5/2.4 MB 142.2 kB/s eta 0:00:14\n",
      "   -------- ------------------------------- 0.5/2.4 MB 142.2 kB/s eta 0:00:14\n",
      "   -------- ------------------------------- 0.5/2.4 MB 142.2 kB/s eta 0:00:14\n",
      "   -------- ------------------------------- 0.5/2.4 MB 142.2 kB/s eta 0:00:14\n",
      "   -------- ------------------------------- 0.5/2.4 MB 142.2 kB/s eta 0:00:14\n",
      "   -------- ------------------------------- 0.5/2.4 MB 142.2 kB/s eta 0:00:14\n",
      "   -------- ------------------------------- 0.5/2.4 MB 142.2 kB/s eta 0:00:14\n",
      "   -------- ------------------------------- 0.5/2.4 MB 142.2 kB/s eta 0:00:14\n",
      "   ------------ --------------------------- 0.8/2.4 MB 130.5 kB/s eta 0:00:13\n",
      "   ------------ --------------------------- 0.8/2.4 MB 130.5 kB/s eta 0:00:13\n",
      "   ------------ --------------------------- 0.8/2.4 MB 130.5 kB/s eta 0:00:13\n",
      "   ------------ --------------------------- 0.8/2.4 MB 130.5 kB/s eta 0:00:13\n",
      "   ------------ --------------------------- 0.8/2.4 MB 130.5 kB/s eta 0:00:13\n",
      "   ------------ --------------------------- 0.8/2.4 MB 130.5 kB/s eta 0:00:13\n",
      "   ----------------- ---------------------- 1.0/2.4 MB 151.1 kB/s eta 0:00:10\n",
      "   ----------------- ---------------------- 1.0/2.4 MB 151.1 kB/s eta 0:00:10\n",
      "   ----------------- ---------------------- 1.0/2.4 MB 151.1 kB/s eta 0:00:10\n",
      "   ----------------- ---------------------- 1.0/2.4 MB 151.1 kB/s eta 0:00:10\n",
      "   ----------------- ---------------------- 1.0/2.4 MB 151.1 kB/s eta 0:00:10\n",
      "   ----------------- ---------------------- 1.0/2.4 MB 151.1 kB/s eta 0:00:10\n",
      "   --------------------- ------------------ 1.3/2.4 MB 162.9 kB/s eta 0:00:07\n",
      "   --------------------- ------------------ 1.3/2.4 MB 162.9 kB/s eta 0:00:07\n",
      "   --------------------- ------------------ 1.3/2.4 MB 162.9 kB/s eta 0:00:07\n",
      "   --------------------- ------------------ 1.3/2.4 MB 162.9 kB/s eta 0:00:07\n",
      "   ------------------------- -------------- 1.6/2.4 MB 177.3 kB/s eta 0:00:05\n",
      "   ------------------------- -------------- 1.6/2.4 MB 177.3 kB/s eta 0:00:05\n",
      "   ------------------------- -------------- 1.6/2.4 MB 177.3 kB/s eta 0:00:05\n",
      "   ------------------------- -------------- 1.6/2.4 MB 177.3 kB/s eta 0:00:05\n",
      "   ----------------------------- ---------- 1.8/2.4 MB 191.7 kB/s eta 0:00:04\n",
      "   ----------------------------- ---------- 1.8/2.4 MB 191.7 kB/s eta 0:00:04\n",
      "   ----------------------------- ---------- 1.8/2.4 MB 191.7 kB/s eta 0:00:04\n",
      "   ----------------------------- ---------- 1.8/2.4 MB 191.7 kB/s eta 0:00:04\n",
      "   ----------------------------- ---------- 1.8/2.4 MB 191.7 kB/s eta 0:00:04\n",
      "   ---------------------------------- ----- 2.1/2.4 MB 200.1 kB/s eta 0:00:02\n",
      "   ---------------------------------- ----- 2.1/2.4 MB 200.1 kB/s eta 0:00:02\n",
      "   ---------------------------------- ----- 2.1/2.4 MB 200.1 kB/s eta 0:00:02\n",
      "   ---------------------------------- ----- 2.1/2.4 MB 200.1 kB/s eta 0:00:02\n",
      "   -------------------------------------- - 2.4/2.4 MB 207.8 kB/s eta 0:00:01\n",
      "   -------------------------------------- - 2.4/2.4 MB 207.8 kB/s eta 0:00:01\n",
      "   ---------------------------------------- 2.4/2.4 MB 210.2 kB/s eta 0:00:00\n",
      "Installing collected packages: torchaudio\n",
      "Successfully installed torchaudio-2.6.0\n"
     ]
    }
   ],
   "source": [
    "!pip install transformers torchvision torchaudio easyocr opencv-python pillow scikit-learn"
   ]
  },
  {
   "cell_type": "code",
   "execution_count": 2,
   "id": "bda7642a-c164-42a1-a2dc-6c878f49d621",
   "metadata": {},
   "outputs": [],
   "source": [
    "import cv2\n",
    "import numpy as np\n",
    "from PIL import Image\n",
    "\n",
    "def preprocess_image(path):\n",
    "    img = cv2.imread(path)\n",
    "    if img is None:\n",
    "        raise FileNotFoundError(f\"Image not found at: {path}\")\n",
    "        \n",
    "    gray = cv2.cvtColor(img, cv2.COLOR_BGR2GRAY)\n",
    "    inverted = cv2.bitwise_not(gray)\n",
    "    blurred = cv2.GaussianBlur(inverted, (3, 3), 0)\n",
    "    _, thresh = cv2.threshold(blurred, 0, 255, cv2.THRESH_BINARY + cv2.THRESH_OTSU)\n",
    "    resized = cv2.resize(thresh, (1024, 512))\n",
    "    return Image.fromarray(cv2.cvtColor(resized, cv2.COLOR_GRAY2RGB)), gray\n"
   ]
  },
  {
   "cell_type": "code",
   "execution_count": null,
   "id": "1cd70cb8-7668-4d19-a717-bfd229731c8f",
   "metadata": {},
   "outputs": [],
   "source": [
    "from sklearn.linear_model import LogisticRegression\n",
    "\n",
    "# A very basic classifier based on pixel intensity variance (you can replace with a CNN if needed)\n",
    "def is_handwritten_text(gray_img):\n",
    "    # Compute basic statistical features\n",
    "    mean = np.mean(gray_img)\n",
    "    std = np.std(gray_img)\n",
    "    \n",
    "    # Heuristic: high variance often means handwriting (irregular strokes)\n",
    "    return std > 50\n"
   ]
  },
  {
   "cell_type": "code",
   "execution_count": null,
   "id": "2e494d5a-8cde-425c-b481-92493658320c",
   "metadata": {},
   "outputs": [
    {
     "data": {
      "application/vnd.jupyter.widget-view+json": {
       "model_id": "db969c8057844c429d8238752ebd0b52",
       "version_major": 2,
       "version_minor": 0
      },
      "text/plain": [
       "preprocessor_config.json:   0%|          | 0.00/224 [00:00<?, ?B/s]"
      ]
     },
     "metadata": {},
     "output_type": "display_data"
    },
    {
     "name": "stderr",
     "output_type": "stream",
     "text": [
      "C:\\Users\\hp\\anaconda3\\Lib\\site-packages\\huggingface_hub\\file_download.py:144: UserWarning: `huggingface_hub` cache-system uses symlinks by default to efficiently store duplicated files but your machine does not support them in C:\\Users\\hp\\.cache\\huggingface\\hub\\models--microsoft--trocr-base-handwritten. Caching files will still work but in a degraded version that might require more space on your disk. This warning can be disabled by setting the `HF_HUB_DISABLE_SYMLINKS_WARNING` environment variable. For more details, see https://huggingface.co/docs/huggingface_hub/how-to-cache#limitations.\n",
      "To support symlinks on Windows, you either need to activate Developer Mode or to run Python as an administrator. In order to activate developer mode, see this article: https://docs.microsoft.com/en-us/windows/apps/get-started/enable-your-device-for-development\n",
      "  warnings.warn(message)\n",
      "Using a slow image processor as `use_fast` is unset and a slow processor was saved with this model. `use_fast=True` will be the default behavior in v4.52, even if the model was saved with a slow processor. This will result in minor differences in outputs. You'll still be able to use a slow processor with `use_fast=False`.\n"
     ]
    },
    {
     "data": {
      "application/vnd.jupyter.widget-view+json": {
       "model_id": "dab25c5c86b6443184c3522cfa15b61c",
       "version_major": 2,
       "version_minor": 0
      },
      "text/plain": [
       "tokenizer_config.json:   0%|          | 0.00/1.12k [00:00<?, ?B/s]"
      ]
     },
     "metadata": {},
     "output_type": "display_data"
    },
    {
     "data": {
      "application/vnd.jupyter.widget-view+json": {
       "model_id": "d1b756dffac94a109358e29258294691",
       "version_major": 2,
       "version_minor": 0
      },
      "text/plain": [
       "vocab.json:   0%|          | 0.00/899k [00:00<?, ?B/s]"
      ]
     },
     "metadata": {},
     "output_type": "display_data"
    },
    {
     "data": {
      "application/vnd.jupyter.widget-view+json": {
       "model_id": "16f28140d92f427ba9b12bfef79d1539",
       "version_major": 2,
       "version_minor": 0
      },
      "text/plain": [
       "merges.txt:   0%|          | 0.00/456k [00:00<?, ?B/s]"
      ]
     },
     "metadata": {},
     "output_type": "display_data"
    },
    {
     "data": {
      "application/vnd.jupyter.widget-view+json": {
       "model_id": "8cde65280da044f28016a520833ba73c",
       "version_major": 2,
       "version_minor": 0
      },
      "text/plain": [
       "special_tokens_map.json:   0%|          | 0.00/772 [00:00<?, ?B/s]"
      ]
     },
     "metadata": {},
     "output_type": "display_data"
    },
    {
     "data": {
      "application/vnd.jupyter.widget-view+json": {
       "model_id": "fe79de71630a4a0e99d28af932fd50f3",
       "version_major": 2,
       "version_minor": 0
      },
      "text/plain": [
       "config.json:   0%|          | 0.00/4.17k [00:00<?, ?B/s]"
      ]
     },
     "metadata": {},
     "output_type": "display_data"
    },
    {
     "data": {
      "application/vnd.jupyter.widget-view+json": {
       "model_id": "00bde8fc1c874794bdffbb0edf83231c",
       "version_major": 2,
       "version_minor": 0
      },
      "text/plain": [
       "model.safetensors:   0%|          | 0.00/1.33G [00:00<?, ?B/s]"
      ]
     },
     "metadata": {},
     "output_type": "display_data"
    }
   ],
   "source": [
    "from transformers import TrOCRProcessor, VisionEncoderDecoderModel\n",
    "import torch\n",
    "\n",
    "# Load once\n",
    "processor_trocr = TrOCRProcessor.from_pretrained(\"microsoft/trocr-base-handwritten\")\n",
    "model_trocr = VisionEncoderDecoderModel.from_pretrained(\"microsoft/trocr-base-handwritten\")\n",
    "device = torch.device(\"cuda\" if torch.cuda.is_available() else \"cpu\")\n",
    "model_trocr.to(device)\n",
    "\n",
    "def run_trocr(image_pil):\n",
    "    pixel_values = processor_trocr(images=image_pil, return_tensors=\"pt\").pixel_values.to(device)\n",
    "    with torch.no_grad():\n",
    "        generated_ids = model_trocr.generate(pixel_values)\n",
    "        generated_text = processor_trocr.batch_decode(generated_ids, skip_special_tokens=True)[0]\n",
    "    return generated_text\n"
   ]
  },
  {
   "cell_type": "code",
   "execution_count": 6,
   "id": "b23e6db9-d2e3-4b66-804c-1edcd7834994",
   "metadata": {},
   "outputs": [
    {
     "name": "stderr",
     "output_type": "stream",
     "text": [
      "Using CPU. Note: This module is much faster with a GPU.\n"
     ]
    }
   ],
   "source": [
    "import easyocr\n",
    "reader = easyocr.Reader(['en'], gpu=False)\n",
    "\n",
    "def run_easyocr(image_path):\n",
    "    result = reader.readtext(image_path)\n",
    "    return ' '.join([d[1] for d in result])\n"
   ]
  },
  {
   "cell_type": "code",
   "execution_count": 7,
   "id": "d77421fe-59f2-4345-85dd-cde566481217",
   "metadata": {},
   "outputs": [],
   "source": [
    "def run_ocr(image_path):\n",
    "    print(f\"🔍 Analyzing image: {image_path}\")\n",
    "    \n",
    "    image_pil, gray = preprocess_image(image_path)\n",
    "    \n",
    "    if is_handwritten_text(gray):\n",
    "        print(\"🖊️ Detected: Handwritten text (using TrOCR)\")\n",
    "        text = run_trocr(image_pil)\n",
    "    else:\n",
    "        print(\"🖨️ Detected: Printed text (using EasyOCR)\")\n",
    "        text = run_easyocr(image_path)\n",
    "    \n",
    "    print(\"✅ Recognized Text:\\n\", text)\n",
    "    return text\n"
   ]
  },
  {
   "cell_type": "code",
   "execution_count": 10,
   "id": "282aaeff-1e30-4083-8870-9bfa5324bb6b",
   "metadata": {},
   "outputs": [
    {
     "name": "stdout",
     "output_type": "stream",
     "text": [
      "🔍 Analyzing image: ocr7.jpg\n",
      "🖨️ Detected: Printed text (using EasyOCR)\n",
      "✅ Recognized Text:\n",
      " penguins are cute except one T\n"
     ]
    },
    {
     "data": {
      "text/plain": [
       "'penguins are cute except one T'"
      ]
     },
     "execution_count": 10,
     "metadata": {},
     "output_type": "execute_result"
    }
   ],
   "source": [
    "# Replace with your image path\n",
    "run_ocr(\"ocr7.jpg\")\n"
   ]
  },
  {
   "cell_type": "code",
   "execution_count": null,
   "id": "971b1f78-70cc-4dc6-8364-c596129bbf25",
   "metadata": {},
   "outputs": [],
   "source": []
  }
 ],
 "metadata": {
  "kernelspec": {
   "display_name": "Python 3 (ipykernel)",
   "language": "python",
   "name": "python3"
  },
  "language_info": {
   "codemirror_mode": {
    "name": "ipython",
    "version": 3
   },
   "file_extension": ".py",
   "mimetype": "text/x-python",
   "name": "python",
   "nbconvert_exporter": "python",
   "pygments_lexer": "ipython3",
   "version": "3.12.3"
  }
 },
 "nbformat": 4,
 "nbformat_minor": 5
}
