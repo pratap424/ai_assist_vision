{
 "cells": [
  {
   "cell_type": "code",
   "execution_count": 7,
   "id": "4b21fa1f-b66a-4fd2-a04b-0695a2608708",
   "metadata": {},
   "outputs": [
    {
     "name": "stderr",
     "output_type": "stream",
     "text": [
      "Using a slow image processor as `use_fast` is unset and a slow processor was saved with this model. `use_fast=True` will be the default behavior in v4.52, even if the model was saved with a slow processor. This will result in minor differences in outputs. You'll still be able to use a slow processor with `use_fast=False`.\n"
     ]
    },
    {
     "name": "stdout",
     "output_type": "stream",
     "text": [
      "Downloading https://github.com/ultralytics/assets/releases/download/v8.3.0/yolov8n.pt to 'yolov8n.pt'...\n"
     ]
    },
    {
     "name": "stderr",
     "output_type": "stream",
     "text": [
      "100%|█████████████████████████████████████████████████████████████████████████████| 6.25M/6.25M [00:05<00:00, 1.24MB/s]\n"
     ]
    }
   ],
   "source": [
    "import sys\n",
    "import os\n",
    "\n",
    "# Add the main project directory to the Python path\n",
    "sys.path.append(os.path.abspath(\".\"))  # or the full path to your project folder\n",
    "\n",
    "from modules.ocr_reader import read_text_combined\n",
    "from modules.vlm_captioning import describe_scene\n",
    "from modules.object_detection import detect_objects\n",
    "from modules.audio_feedback import speak\n",
    "\n",
    "def run_pipeline(image_path):\n",
    "    print(\"🔍 Analyzing:\", image_path)\n",
    "\n",
    "    scene = describe_scene(image_path)\n"
   ]
  },
  {
   "cell_type": "code",
   "execution_count": null,
   "id": "658c4f6e-1bd8-4aa2-b1fd-2961050e372b",
   "metadata": {},
   "outputs": [],
   "source": []
  }
 ],
 "metadata": {
  "kernelspec": {
   "display_name": "Python 3 (ipykernel)",
   "language": "python",
   "name": "python3"
  },
  "language_info": {
   "codemirror_mode": {
    "name": "ipython",
    "version": 3
   },
   "file_extension": ".py",
   "mimetype": "text/x-python",
   "name": "python",
   "nbconvert_exporter": "python",
   "pygments_lexer": "ipython3",
   "version": "3.9.19"
  }
 },
 "nbformat": 4,
 "nbformat_minor": 5
}
