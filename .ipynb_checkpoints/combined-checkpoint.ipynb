{
 "cells": [
  {
   "cell_type": "code",
   "execution_count": 8,
   "id": "2946d93d-3c3e-4334-9c5f-0f6e6f445cb7",
   "metadata": {},
   "outputs": [],
   "source": [
    "# Core\n",
    "import os\n",
    "import torch\n",
    "from PIL import Image\n",
    "import numpy as np\n",
    "from transformers import TrOCRProcessor, VisionEncoderDecoderModel\n",
    "from PIL import Image\n",
    "import torchvision.transforms as transforms\n",
    "\n",
    "# Models\n",
    "from transformers import BlipProcessor, BlipForConditionalGeneration\n",
    "import easyocr\n",
    "import cv2\n",
    "\n",
    "# TTS\n",
    "import pyttsx3\n",
    "\n",
    "# YOLOv8\n",
    "from ultralytics import YOLO\n"
   ]
  },
  {
   "cell_type": "code",
   "execution_count": 18,
   "id": "81a6dfce-b2c6-443e-b891-8f6ec43be4f5",
   "metadata": {},
   "outputs": [
    {
     "name": "stderr",
     "output_type": "stream",
     "text": [
      "Using a slow image processor as `use_fast` is unset and a slow processor was saved with this model. `use_fast=True` will be the default behavior in v4.52, even if the model was saved with a slow processor. This will result in minor differences in outputs. You'll still be able to use a slow processor with `use_fast=False`.\n",
      "Config of the encoder: <class 'transformers.models.vit.modeling_vit.ViTModel'> is overwritten by shared encoder config: ViTConfig {\n",
      "  \"attention_probs_dropout_prob\": 0.0,\n",
      "  \"encoder_stride\": 16,\n",
      "  \"hidden_act\": \"gelu\",\n",
      "  \"hidden_dropout_prob\": 0.0,\n",
      "  \"hidden_size\": 768,\n",
      "  \"image_size\": 384,\n",
      "  \"initializer_range\": 0.02,\n",
      "  \"intermediate_size\": 3072,\n",
      "  \"layer_norm_eps\": 1e-12,\n",
      "  \"model_type\": \"vit\",\n",
      "  \"num_attention_heads\": 12,\n",
      "  \"num_channels\": 3,\n",
      "  \"num_hidden_layers\": 12,\n",
      "  \"patch_size\": 16,\n",
      "  \"pooler_act\": \"tanh\",\n",
      "  \"pooler_output_size\": 768,\n",
      "  \"qkv_bias\": false,\n",
      "  \"torch_dtype\": \"float32\",\n",
      "  \"transformers_version\": \"4.51.0\"\n",
      "}\n",
      "\n",
      "Config of the decoder: <class 'transformers.models.trocr.modeling_trocr.TrOCRForCausalLM'> is overwritten by shared decoder config: TrOCRConfig {\n",
      "  \"activation_dropout\": 0.0,\n",
      "  \"activation_function\": \"gelu\",\n",
      "  \"add_cross_attention\": true,\n",
      "  \"attention_dropout\": 0.0,\n",
      "  \"bos_token_id\": 0,\n",
      "  \"classifier_dropout\": 0.0,\n",
      "  \"cross_attention_hidden_size\": 768,\n",
      "  \"d_model\": 1024,\n",
      "  \"decoder_attention_heads\": 16,\n",
      "  \"decoder_ffn_dim\": 4096,\n",
      "  \"decoder_layerdrop\": 0.0,\n",
      "  \"decoder_layers\": 12,\n",
      "  \"decoder_start_token_id\": 2,\n",
      "  \"dropout\": 0.1,\n",
      "  \"eos_token_id\": 2,\n",
      "  \"init_std\": 0.02,\n",
      "  \"is_decoder\": true,\n",
      "  \"layernorm_embedding\": true,\n",
      "  \"max_position_embeddings\": 512,\n",
      "  \"model_type\": \"trocr\",\n",
      "  \"pad_token_id\": 1,\n",
      "  \"scale_embedding\": false,\n",
      "  \"torch_dtype\": \"float32\",\n",
      "  \"transformers_version\": \"4.51.0\",\n",
      "  \"use_cache\": false,\n",
      "  \"use_learned_position_embeddings\": true,\n",
      "  \"vocab_size\": 50265\n",
      "}\n",
      "\n",
      "Some weights of VisionEncoderDecoderModel were not initialized from the model checkpoint at microsoft/trocr-base-printed and are newly initialized: ['encoder.pooler.dense.bias', 'encoder.pooler.dense.weight']\n",
      "You should probably TRAIN this model on a down-stream task to be able to use it for predictions and inference.\n",
      "Using CPU. Note: This module is much faster with a GPU.\n"
     ]
    }
   ],
   "source": [
    "# Load BLIP-2 (Scene Description)\n",
    "blip_processor = BlipProcessor.from_pretrained(\"Salesforce/blip-image-captioning-base\")\n",
    "blip_model = BlipForConditionalGeneration.from_pretrained(\"Salesforce/blip-image-captioning-base\")\n",
    "\n",
    "# Load YOLOv8 (Object Detection)\n",
    "yolo_model = YOLO(\"yolov8n.pt\")  # Nano model (lightweight)\n",
    "\n",
    "# Load EasyOCR (Text Detection)\n",
    "# Load models once\n",
    "trocr_processor = TrOCRProcessor.from_pretrained(\"microsoft/trocr-base-printed\")\n",
    "trocr_model = VisionEncoderDecoderModel.from_pretrained(\"microsoft/trocr-base-printed\")\n",
    "reader = easyocr.Reader(['en'], gpu=False)\n",
    "\n",
    "# Load PyTTSX3\n",
    "engine = pyttsx3.init()\n"
   ]
  },
  {
   "cell_type": "code",
   "execution_count": 3,
   "id": "d896760f-7e4b-4217-8a11-37cb502c05c5",
   "metadata": {},
   "outputs": [],
   "source": [
    "def describe_scene(image_path):\n",
    "    raw_image = Image.open(image_path).convert('RGB')\n",
    "    inputs = blip_processor(raw_image, return_tensors=\"pt\")\n",
    "    out = blip_model.generate(**inputs)\n",
    "    description = blip_processor.decode(out[0], skip_special_tokens=True)\n",
    "    return description\n"
   ]
  },
  {
   "cell_type": "code",
   "execution_count": 4,
   "id": "e9a18771-9a5a-43be-b19d-90af2ebc7d0a",
   "metadata": {},
   "outputs": [],
   "source": [
    "def detect_objects(image_path):\n",
    "    results = yolo_model(image_path)\n",
    "    objects = results[0].names\n",
    "    labels = [objects[int(cls)] for cls in results[0].boxes.cls]\n",
    "    return list(set(labels))\n"
   ]
  },
  {
   "cell_type": "code",
   "execution_count": 20,
   "id": "c10fad2a-564c-442d-9ccd-00df61e67288",
   "metadata": {},
   "outputs": [],
   "source": [
    "\n",
    "\n",
    "def read_text(image_path):\n",
    "\n",
    "# EasyOCR (already loaded)\n",
    "    reader = easyocr.Reader(['en'], gpu=False)\n",
    "\n",
    "# Preprocessing for TrOCR\n",
    "def preprocess_image(image_path):\n",
    "    image = Image.open(image_path).convert(\"RGB\")\n",
    "    return image\n",
    "\n",
    "# Combined OCR function\n",
    "def read_text_combined(image_path):\n",
    "    print(\"\\n🔍 Performing OCR with TrOCR and EasyOCR...\")\n",
    "\n",
    "    # TrOCR part\n",
    "    image = preprocess_image(image_path)\n",
    "    pixel_values = trocr_processor(images=image, return_tensors=\"pt\").pixel_values\n",
    "    generated_ids = trocr_model.generate(pixel_values)\n",
    "    trocr_text = trocr_processor.batch_decode(generated_ids, skip_special_tokens=True)[0]\n",
    "\n",
    "    # EasyOCR part\n",
    "    result_easyocr = reader.readtext(image_path)\n",
    "    easy_text = [item[1] for item in result_easyocr if len(item[1]) > 1]\n",
    "    easyocr_combined = \" \".join(easy_text)\n",
    "\n",
    "    # Merge both\n",
    "    final_text = trocr_text.strip() + \". \" + easyocr_combined.strip()\n",
    "\n",
    "    return final_text if final_text.strip() else \"No readable text found.\"\n",
    "\n",
    "\n"
   ]
  },
  {
   "cell_type": "code",
   "execution_count": 21,
   "id": "91110a3c-3462-43f0-ac3b-1eaa374c4b7b",
   "metadata": {},
   "outputs": [],
   "source": [
    "def speak(text):\n",
    "    print(\"Speaking:\", text)\n",
    "    engine.say(text)\n",
    "    engine.runAndWait()\n"
   ]
  },
  {
   "cell_type": "code",
   "execution_count": 22,
   "id": "7554fc4d-8f77-4ab9-aed3-c961b32c2582",
   "metadata": {},
   "outputs": [],
   "source": [
    "def run_pipeline(image_path):\n",
    "    print(\"Analyzing image:\", image_path)\n",
    "\n",
    "    scene = describe_scene(image_path)\n",
    "    objects = detect_objects(image_path)\n",
    "    text = read_text_combined(image_path)\n",
    "\n",
    "    # Display results\n",
    "    print(\"Scene:\", scene)\n",
    "    print(\"Objects Detected:\", objects)\n",
    "    print(\"Text Found:\", text)\n",
    "\n",
    "    # Speak out\n",
    "    speak(\"Scene description: \" + scene)\n",
    "    speak(\"Detected objects: \" + \", \".join(objects))\n",
    "    speak(\"Text says: \" + text)\n"
   ]
  },
  {
   "cell_type": "code",
   "execution_count": 25,
   "id": "1861c58f-a4af-4a5e-8ad8-aa219fdebd1e",
   "metadata": {},
   "outputs": [
    {
     "name": "stdout",
     "output_type": "stream",
     "text": [
      "Analyzing image: finalocr.jpeg\n",
      "\n",
      "image 1/1 C:\\Users\\Hp\\Documents\\finalocr.jpeg: 384x640 1 person, 1 cup, 1 tv, 2 laptops, 1 mouse, 1 keyboard, 74.7ms\n",
      "Speed: 2.7ms preprocess, 74.7ms inference, 14.8ms postprocess per image at shape (1, 3, 384, 640)\n",
      "\n",
      "🔍 Performing OCR with TrOCR and EasyOCR...\n",
      "Scene: a woman sitting at a desk with a book and a computer\n",
      "Objects Detected: ['tv', 'laptop', 'cup', 'person', 'keyboard', 'mouse']\n",
      "Text Found: ITEM. I At Gidep Yiqui AF 467\n",
      "Speaking: Scene description: a woman sitting at a desk with a book and a computer\n",
      "Speaking: Detected objects: tv, laptop, cup, person, keyboard, mouse\n",
      "Speaking: Text says: ITEM. I At Gidep Yiqui AF 467\n"
     ]
    }
   ],
   "source": [
    "run_pipeline(\"finalocr.jpeg\")\n"
   ]
  },
  {
   "cell_type": "code",
   "execution_count": null,
   "id": "5211ae59-46fa-440b-83a2-d172275dd96b",
   "metadata": {},
   "outputs": [],
   "source": []
  }
 ],
 "metadata": {
  "kernelspec": {
   "display_name": "Python 3 (ipykernel)",
   "language": "python",
   "name": "python3"
  },
  "language_info": {
   "codemirror_mode": {
    "name": "ipython",
    "version": 3
   },
   "file_extension": ".py",
   "mimetype": "text/x-python",
   "name": "python",
   "nbconvert_exporter": "python",
   "pygments_lexer": "ipython3",
   "version": "3.9.19"
  }
 },
 "nbformat": 4,
 "nbformat_minor": 5
}
